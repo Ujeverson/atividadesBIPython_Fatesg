{
 "cells": [
  {
   "cell_type": "code",
   "execution_count": 1,
   "id": "94dbbff4",
   "metadata": {},
   "outputs": [],
   "source": [
    "import numpy\n",
    "import matplotlib.pyplot as plt\n",
    "import pandas as pd\n",
    "import seaborn as sns"
   ]
  },
  {
   "cell_type": "code",
   "execution_count": 2,
   "id": "fff13925",
   "metadata": {},
   "outputs": [],
   "source": [
    "url = 'https://raw.githubusercontent.com/Ujeverson/datasets/main/Salary_Data.csv '"
   ]
  },
  {
   "cell_type": "code",
   "execution_count": 3,
   "id": "b530cbaa",
   "metadata": {},
   "outputs": [
    {
     "data": {
      "text/html": [
       "<div>\n",
       "<style scoped>\n",
       "    .dataframe tbody tr th:only-of-type {\n",
       "        vertical-align: middle;\n",
       "    }\n",
       "\n",
       "    .dataframe tbody tr th {\n",
       "        vertical-align: top;\n",
       "    }\n",
       "\n",
       "    .dataframe thead th {\n",
       "        text-align: right;\n",
       "    }\n",
       "</style>\n",
       "<table border=\"1\" class=\"dataframe\">\n",
       "  <thead>\n",
       "    <tr style=\"text-align: right;\">\n",
       "      <th></th>\n",
       "      <th>YearsExperience</th>\n",
       "      <th>Salary</th>\n",
       "    </tr>\n",
       "  </thead>\n",
       "  <tbody>\n",
       "    <tr>\n",
       "      <th>0</th>\n",
       "      <td>1.1</td>\n",
       "      <td>39343.0</td>\n",
       "    </tr>\n",
       "    <tr>\n",
       "      <th>1</th>\n",
       "      <td>1.3</td>\n",
       "      <td>46205.0</td>\n",
       "    </tr>\n",
       "    <tr>\n",
       "      <th>2</th>\n",
       "      <td>1.5</td>\n",
       "      <td>37731.0</td>\n",
       "    </tr>\n",
       "    <tr>\n",
       "      <th>3</th>\n",
       "      <td>2.0</td>\n",
       "      <td>43525.0</td>\n",
       "    </tr>\n",
       "    <tr>\n",
       "      <th>4</th>\n",
       "      <td>2.2</td>\n",
       "      <td>39891.0</td>\n",
       "    </tr>\n",
       "  </tbody>\n",
       "</table>\n",
       "</div>"
      ],
      "text/plain": [
       "   YearsExperience   Salary\n",
       "0              1.1  39343.0\n",
       "1              1.3  46205.0\n",
       "2              1.5  37731.0\n",
       "3              2.0  43525.0\n",
       "4              2.2  39891.0"
      ]
     },
     "execution_count": 3,
     "metadata": {},
     "output_type": "execute_result"
    }
   ],
   "source": [
    "wage = pd.read_csv(url)\n",
    "wage.head()"
   ]
  },
  {
   "cell_type": "code",
   "execution_count": 4,
   "id": "2e1bce46",
   "metadata": {},
   "outputs": [],
   "source": [
    "x = wage['YearsExperience']\n",
    "y = wage['Salary']"
   ]
  },
  {
   "cell_type": "code",
   "execution_count": 12,
   "id": "cf3bb765",
   "metadata": {},
   "outputs": [
    {
     "data": {
      "text/plain": [
       "<matplotlib.collections.PathCollection at 0x1824b568770>"
      ]
     },
     "execution_count": 12,
     "metadata": {},
     "output_type": "execute_result"
    },
    {
     "data": {
      "image/png": "[encoded data removed]",
      "text/plain": [
       "<Figure size 640x480 with 1 Axes>"
      ]
     },
     "metadata": {},
     "output_type": "display_data"
    }
   ],
   "source": [
    "plt.scatter(x, y, color='green')"
   ]
  },
  {
   "cell_type": "code",
   "execution_count": 14,
   "id": "4c22dcf9",
   "metadata": {},
   "outputs": [
    {
     "data": {
      "text/plain": [
       "159.4"
      ]
     },
     "execution_count": 14,
     "metadata": {},
     "output_type": "execute_result"
    }
   ],
   "source": [
    "xs = x.sum()\n",
    "xs"
   ]
  },
  {
   "cell_type": "code",
   "execution_count": 15,
   "id": "b5830bf7",
   "metadata": {},
   "outputs": [
    {
     "data": {
      "text/plain": [
       "2280090.0"
      ]
     },
     "execution_count": 15,
     "metadata": {},
     "output_type": "execute_result"
    }
   ],
   "source": [
    "ys = y.sum()\n",
    "ys"
   ]
  },
  {
   "cell_type": "code",
   "execution_count": 17,
   "id": "1a81796f",
   "metadata": {},
   "outputs": [],
   "source": [
    "xy = x*y"
   ]
  },
  {
   "cell_type": "code",
   "execution_count": 18,
   "id": "e45feab1",
   "metadata": {},
   "outputs": [
    {
     "data": {
      "text/plain": [
       "14321961.0"
      ]
     },
     "execution_count": 18,
     "metadata": {},
     "output_type": "execute_result"
    }
   ],
   "source": [
    "xys = xy.sum()\n",
    "xys"
   ]
  },
  {
   "cell_type": "code",
   "execution_count": 19,
   "id": "20bdbb18",
   "metadata": {},
   "outputs": [
    {
     "name": "stdout",
     "output_type": "stream",
     "text": [
      "0    1.21\n",
      "1    1.69\n",
      "2    2.25\n",
      "3    4.00\n",
      "4    4.84\n",
      "Name: YearsExperience, dtype: float64\n"
     ]
    }
   ],
   "source": [
    "x2 = x**2\n",
    "print(x2.head())"
   ]
  },
  {
   "cell_type": "code",
   "execution_count": 20,
   "id": "c7f4cd05",
   "metadata": {},
   "outputs": [
    {
     "data": {
      "text/plain": [
       "1080.5"
      ]
     },
     "execution_count": 20,
     "metadata": {},
     "output_type": "execute_result"
    }
   ],
   "source": [
    "x2s = x2.sum()\n",
    "x2s"
   ]
  },
  {
   "cell_type": "code",
   "execution_count": 21,
   "id": "437edcbb",
   "metadata": {},
   "outputs": [
    {
     "data": {
      "text/plain": [
       "30"
      ]
     },
     "execution_count": 21,
     "metadata": {},
     "output_type": "execute_result"
    }
   ],
   "source": [
    "n = len(wage)\n",
    "n"
   ]
  },
  {
   "cell_type": "code",
   "execution_count": 23,
   "id": "d28e2c2f",
   "metadata": {},
   "outputs": [
    {
     "name": "stdout",
     "output_type": "stream",
     "text": [
      "9449.962321455077\n",
      "9449.96\n"
     ]
    }
   ],
   "source": [
    "a = (n*xys - xs*ys) / (n*x2s - xs**2)\n",
    "print(a)\n",
    "print(round(a, 2)) "
   ]
  },
  {
   "cell_type": "code",
   "execution_count": 24,
   "id": "2cbd5820",
   "metadata": {},
   "outputs": [
    {
     "data": {
      "text/plain": [
       "25792.200198668685"
      ]
     },
     "execution_count": 24,
     "metadata": {},
     "output_type": "execute_result"
    }
   ],
   "source": [
    "b = (ys - a*xs) / n\n",
    "b"
   ]
  },
  {
   "cell_type": "code",
   "execution_count": null,
   "id": "5714d16d",
   "metadata": {},
   "outputs": [
    {
     "name": "stdout",
     "output_type": "stream",
     "text": [
      "5.8551\n"
     ]
    }
   ],
   "source": [
    "#pegar os dados via selenium do site https://br.investing.com/currencies/usd-brl\n",
    "#xpath: //*[@id=\"__next\"]/div[2]/div[2]/div[2]/div[1]/div[1]/div[3]/div[1]/div[1]/div[1]\n",
    "\n",
    "from selenium import webdriver\n",
    "from selenium.webdriver.common.by import By\n",
    "from selenium.webdriver.chrome.service import Service\n",
    "from webdriver_manager.chrome import ChromeDriverManager\n",
    "from selenium.webdriver.chrome.options import Options\n",
    "\n",
    "options = Options()\n",
    "#options.add_argument('--headless')  # Executa o Chrome em segundo plano (sem interface gráfica)\n",
    "\n",
    "driver = webdriver.Chrome(service=Service(ChromeDriverManager().install()), options=options)\n",
    "driver.get('https://br.investing.com/currencies/usd-brl')\n",
    "\n",
    "# Aguarda o carregamento da página\n",
    "driver.implicitly_wait(10)  \n",
    "\n",
    "# Localiza o elemento que contém a cotação do dólar\n",
    "element = driver.find_element(By.XPATH, '//*[@id=\"__next\"]/div[2]/div[2]/div[2]/div[1]/div[1]/div[3]/div[1]/div[1]/div[1]')\n",
    "usd_brl = element.text\n",
    "# Converte a cotação para float\n",
    "usd_brl = float(usd_brl.replace(',', '.'))\n",
    "print(usd_brl)"
   ]
  },
  {
   "cell_type": "code",
   "execution_count": 42,
   "id": "bf9ee2ef",
   "metadata": {},
   "outputs": [
    {
     "name": "stdout",
     "output_type": "stream",
     "text": [
      "Com 34 anos de experiência, o salário é de US$ 347090.92 ou R$2032252.05\n"
     ]
    }
   ],
   "source": [
    "xyears = 34 # Anos de experiência\n",
    "wyears = round(a*xyears + b,2)\n",
    "wyearsBRL = round(wyears * usd_brl,2)\n",
    "\n",
    "print(f'Com {xyears} anos de experiência, o salário é de US$ {wyears} ou R${wyearsBRL}')"
   ]
  },
  {
   "cell_type": "code",
   "execution_count": null,
   "id": "7fdb2182",
   "metadata": {},
   "outputs": [],
   "source": []
  }
 ],
 "metadata": {
  "kernelspec": {
   "display_name": "Python 3",
   "language": "python",
   "name": "python3"
  },
  "language_info": {
   "codemirror_mode": {
    "name": "ipython",
    "version": 3
   },
   "file_extension": ".py",
   "mimetype": "text/x-python",
   "name": "python",
   "nbconvert_exporter": "python",
   "pygments_lexer": "ipython3",
   "version": "3.12.6"
  }
 },
 "nbformat": 4,
 "nbformat_minor": 5
}
